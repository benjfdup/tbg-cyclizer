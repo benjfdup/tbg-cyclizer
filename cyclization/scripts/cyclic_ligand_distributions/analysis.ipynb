{
 "cells": [
  {
   "cell_type": "markdown",
   "metadata": {},
   "source": [
    "### Objective 1\n",
    "We want something which will, given the md trajectory, calculate the dihedral angles (from this we can get their distributions)\n",
    "given the relevant SMILES string.\n",
    "\n",
    "### Objective 2\n",
    "We also want something to plot the csv file data, so that we can do a sanity check to ensure the macroscopic properties (temp, pressure)\n",
    "are reasonable and are not discontinuous."
   ]
  },
  {
   "cell_type": "code",
   "execution_count": 20,
   "metadata": {},
   "outputs": [],
   "source": [
    "import mdtraj as md\n",
    "import numpy as np\n",
    "import os"
   ]
  },
  {
   "cell_type": "code",
   "execution_count": null,
   "metadata": {},
   "outputs": [],
   "source": [
    "smiles_dict = {\n",
    "    'Lys-Tyr': 'CNCc1c(O)ccc(c1)C',\n",
    "    'Lys-Arg': 'N1(C)CN=C(NC1)NC',\n",
    "    'Sulfur-Mediated-Amide': 'SC[C@@H](NC(=O)C)C(=O)C',\n",
    "    'Carboxyl-Carboxyl': 'C(=O)(C)NCc1ccc(cc1)CNC(=O)C',\n",
    "    'Disulfide': ' N[C@H](C(=O)O)CSSC[C@@H](N)C(=O)O',\n",
    "    'Cys-Arg': 'CSCC(=O)NCCCC',\n",
    "    'Cys-Carboxyl': 'CSCC(=O)C',\n",
    "}\n",
    "\n",
    "pdb_dir = '/home/bfd21/rds/hpc-work/tbg/md_work/cyc_toy_pdbs'\n",
    "\n",
    "pdb_dict = {}"
   ]
  }
 ],
 "metadata": {
  "kernelspec": {
   "display_name": "data_viz1",
   "language": "python",
   "name": "python3"
  },
  "language_info": {
   "codemirror_mode": {
    "name": "ipython",
    "version": 3
   },
   "file_extension": ".py",
   "mimetype": "text/x-python",
   "name": "python",
   "nbconvert_exporter": "python",
   "pygments_lexer": "ipython3",
   "version": "3.10.16"
  }
 },
 "nbformat": 4,
 "nbformat_minor": 2
}
