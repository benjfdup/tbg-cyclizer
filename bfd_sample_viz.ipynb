{
 "cells": [
  {
   "cell_type": "code",
   "execution_count": 4,
   "metadata": {},
   "outputs": [],
   "source": [
    "### cannot be done in test_ben0 conda environment due to collisions. Instead, I'll make another conda env\n",
    "### specifically for data viz. I will call it: data_viz0 (lol)\n",
    "\n",
    "import numpy as np\n",
    "import mdtraj as md\n",
    "import nglview as nv"
   ]
  },
  {
   "cell_type": "code",
   "execution_count": 9,
   "metadata": {},
   "outputs": [],
   "source": [
    "# Parameters\n",
    "scaling_factor = 10\n",
    "pdb_path = \"/home/bfd21/rds/hpc-work/sample_cyclic_md/ligand-only/dummy1/l1.pdb\"\n",
    "npz_files = [\n",
    "    \"/home/bfd21/rds/hpc-work/tbg/result_data/Dec-3-2024/bb_all_sc_adj_batch-0.npz\",\n",
    "    \"/home/bfd21/rds/hpc-work/tbg/result_data/Dec-3-2024/bb_all_sc_adj_batch-1.npz\",\n",
    "]  # Add more files if needed\n",
    "\n",
    "# Load topology from PDB file\n",
    "topology = md.load(pdb_path).topology"
   ]
  },
  {
   "cell_type": "code",
   "execution_count": 11,
   "metadata": {},
   "outputs": [
    {
     "data": {
      "application/vnd.jupyter.widget-view+json": {
       "model_id": "1316c3eb4a40412d944f608a54d95bae",
       "version_major": 2,
       "version_minor": 0
      },
      "text/plain": [
       "NGLWidget(max_frame=134)"
      ]
     },
     "metadata": {},
     "output_type": "display_data"
    }
   ],
   "source": [
    "# Load and process generated samples\n",
    "all_samples = []\n",
    "for npz_file in npz_files:\n",
    "    data = np.load(npz_file)\n",
    "    samples_np = data[\"samples_np\"]\n",
    "    # Reshape samples to match the number of particles and scale them\n",
    "    n_particles = len(list(topology.atoms))\n",
    "    samples = samples_np.reshape(-1, n_particles, 3) * scaling_factor\n",
    "    all_samples.append(samples)\n",
    "\n",
    "# Combine all samples into a single array\n",
    "all_samples = np.concatenate(all_samples, axis=0)\n",
    "\n",
    "# Create an MDTraj trajectory with the combined samples\n",
    "traj = md.Trajectory(\n",
    "    xyz=all_samples,  # Shape: (n_frames, n_atoms, 3)\n",
    "    topology=topology\n",
    ")\n",
    "\n",
    "# Center the trajectory around the origin\n",
    "traj.center_coordinates()\n",
    "\n",
    "# Visualize using nglview\n",
    "view = nv.show_mdtraj(traj)\n",
    "view.add_representation(\"cartoon\")  # Add a cartoon representation for proteins\n",
    "view.add_representation(\"ball+stick\")  # Add a ball+stick representation for small molecules\n",
    "\n",
    "# Display the visualization\n",
    "view"
   ]
  }
 ],
 "metadata": {
  "kernelspec": {
   "display_name": "data_viz0",
   "language": "python",
   "name": "python3"
  },
  "language_info": {
   "codemirror_mode": {
    "name": "ipython",
    "version": 3
   },
   "file_extension": ".py",
   "mimetype": "text/x-python",
   "name": "python",
   "nbconvert_exporter": "python",
   "pygments_lexer": "ipython3",
   "version": "3.9.0"
  }
 },
 "nbformat": 4,
 "nbformat_minor": 2
}
