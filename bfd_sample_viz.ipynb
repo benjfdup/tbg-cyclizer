{
 "cells": [
  {
   "cell_type": "code",
   "execution_count": 1,
   "metadata": {},
   "outputs": [
    {
     "data": {
      "application/vnd.jupyter.widget-view+json": {
       "model_id": "219b80a5e9b14576a80fa0a52df54380",
       "version_major": 2,
       "version_minor": 0
      },
      "text/plain": []
     },
     "metadata": {},
     "output_type": "display_data"
    }
   ],
   "source": [
    "### cannot be done in test_ben0 conda environment due to collisions. Instead, I'll make another conda env\n",
    "### specifically for data viz. I will call it: data_viz0 (lol)\n",
    "### remember, use test_ben0 for actual inference.\n",
    "\n",
    "import numpy as np\n",
    "import mdtraj as md\n",
    "import nglview as nv"
   ]
  },
  {
   "cell_type": "markdown",
   "metadata": {},
   "source": [
    "**Raw PDB, visualized:**"
   ]
  },
  {
   "cell_type": "code",
   "execution_count": 2,
   "metadata": {},
   "outputs": [
    {
     "data": {
      "application/vnd.jupyter.widget-view+json": {
       "model_id": "67371156f4d04c1c98ca1b7de1db1502",
       "version_major": 2,
       "version_minor": 0
      },
      "text/plain": [
       "NGLWidget()"
      ]
     },
     "metadata": {},
     "output_type": "display_data"
    }
   ],
   "source": [
    "pdb_path = \"/home/bfd21/rds/hpc-work/sample_cyclic_md/ligand-only/dummy1/l1.pdb\"\n",
    "\n",
    "# Path to your PDB file\n",
    "\n",
    "# Load the PDB file using MDTraj\n",
    "traj = md.load(pdb_path)\n",
    "\n",
    "# Visualize using nglview\n",
    "view = nv.show_mdtraj(traj)\n",
    "\n",
    "# Add a basic representation (ball-and-stick for atoms and bonds)\n",
    "view.add_representation(\"ball+stick\", selection=\"all\")\n",
    "\n",
    "# Display the visualization\n",
    "view\n"
   ]
  },
  {
   "cell_type": "markdown",
   "metadata": {},
   "source": [
    "**Inference, No Scale Factor (100 Epochs):**"
   ]
  },
  {
   "cell_type": "code",
   "execution_count": 12,
   "metadata": {},
   "outputs": [
    {
     "data": {
      "application/vnd.jupyter.widget-view+json": {
       "model_id": "7e28026dd43d49c59e1434f857ce104e",
       "version_major": 2,
       "version_minor": 0
      },
      "text/plain": [
       "NGLWidget(max_frame=134)"
      ]
     },
     "metadata": {},
     "output_type": "display_data"
    }
   ],
   "source": [
    "# Parameters\n",
    "scaling_factor = 1 ## OH MY GOSH THIS IS AMAZING!!!! NO SCALE IT IS THEN!!!\n",
    "npz_files = [\n",
    "    \"/home/bfd21/rds/hpc-work/tbg/result_data/Dec-5-2024/NO-SCALE_bb_all_sc_adj_batch-0.npz\",\n",
    "    \"/home/bfd21/rds/hpc-work/tbg/result_data/Dec-5-2024/NO-SCALE_bb_all_sc_adj_batch-1.npz\",\n",
    "]\n",
    "\n",
    "### IN THE FUTURE WHEN YOU TRAIN MODELS, USE A SCALE FACTOR OF 1!!!\n",
    "\n",
    "# Load PDB and infer bonds\n",
    "pdb = md.load(pdb_path)\n",
    "pdb.topology.create_standard_bonds()  # Infer bonds based on atom types and residue connectivity\n",
    "topology = pdb.topology\n",
    "\n",
    "# Load and process generated samples\n",
    "all_samples = []\n",
    "for npz_file in npz_files:\n",
    "    data = np.load(npz_file)\n",
    "    samples_np = data[\"samples_np\"]\n",
    "    # Reshape samples to match the number of particles and scale them\n",
    "    n_particles = len(list(topology.atoms))\n",
    "    samples = samples_np.reshape(-1, n_particles, 3) * scaling_factor\n",
    "    all_samples.append(samples)\n",
    "\n",
    "# Combine all samples into a single array\n",
    "all_samples = np.concatenate(all_samples, axis=0)\n",
    "\n",
    "# Create an MDTraj trajectory with the inferred bonds\n",
    "traj = md.Trajectory(\n",
    "    xyz=all_samples,  # Shape: (n_frames, n_atoms, 3)\n",
    "    topology=topology\n",
    ")\n",
    "\n",
    "# Center the trajectory around the origin\n",
    "traj.center_coordinates()\n",
    "\n",
    "# Visualize using nglview\n",
    "view = nv.show_mdtraj(traj)\n",
    "\n",
    "# Representations\n",
    "view.add_representation(\"cartoon\", selection=\"protein\")  # Protein backbone\n",
    "view.add_representation(\"ball+stick\", selection=\"all\", radius=0.5)  # Atoms and bonds\n",
    "\n",
    "# Display the visualization\n",
    "view"
   ]
  },
  {
   "cell_type": "markdown",
   "metadata": {},
   "source": [
    "**Inference Data (100 epochs):**"
   ]
  },
  {
   "cell_type": "code",
   "execution_count": 18,
   "metadata": {},
   "outputs": [
    {
     "data": {
      "application/vnd.jupyter.widget-view+json": {
       "model_id": "d5a29305ad314374955251858b3caf81",
       "version_major": 2,
       "version_minor": 0
      },
      "text/plain": [
       "NGLWidget(max_frame=134)"
      ]
     },
     "metadata": {},
     "output_type": "display_data"
    }
   ],
   "source": [
    "# Parameters\n",
    "scaling_factor = 30\n",
    "npz_files = [\n",
    "    \"/home/bfd21/rds/hpc-work/tbg/result_data/Dec-3-2024/bb_all_sc_adj_batch-0.npz\",\n",
    "    \"/home/bfd21/rds/hpc-work/tbg/result_data/Dec-3-2024/bb_all_sc_adj_batch-1.npz\",\n",
    "]\n",
    "\n",
    "# Load PDB and infer bonds\n",
    "pdb = md.load(pdb_path)\n",
    "pdb.topology.create_standard_bonds()  # Infer bonds based on atom types and residue connectivity\n",
    "topology = pdb.topology\n",
    "\n",
    "# Load and process generated samples\n",
    "all_samples = []\n",
    "for npz_file in npz_files:\n",
    "    data = np.load(npz_file)\n",
    "    samples_np = data[\"samples_np\"]\n",
    "    # Reshape samples to match the number of particles and scale them\n",
    "    n_particles = len(list(topology.atoms))\n",
    "    samples = samples_np.reshape(-1, n_particles, 3) * scaling_factor\n",
    "    all_samples.append(samples)\n",
    "\n",
    "# Combine all samples into a single array\n",
    "all_samples = np.concatenate(all_samples, axis=0)\n",
    "\n",
    "# Create an MDTraj trajectory with the inferred bonds\n",
    "traj = md.Trajectory(\n",
    "    xyz=all_samples,  # Shape: (n_frames, n_atoms, 3)\n",
    "    topology=topology\n",
    ")\n",
    "\n",
    "# Center the trajectory around the origin\n",
    "traj.center_coordinates()\n",
    "\n",
    "# Visualize using nglview\n",
    "view = nv.show_mdtraj(traj)\n",
    "\n",
    "# Representations\n",
    "view.add_representation(\"cartoon\", selection=\"protein\")  # Protein backbone\n",
    "view.add_representation(\"ball+stick\", selection=\"all\", radius=0.5)  # Atoms and bonds\n",
    "\n",
    "# Display the visualization\n",
    "view\n"
   ]
  },
  {
   "cell_type": "markdown",
   "metadata": {},
   "source": [
    "**Inference Data (200 epochs):**"
   ]
  },
  {
   "cell_type": "code",
   "execution_count": 19,
   "metadata": {},
   "outputs": [
    {
     "data": {
      "application/vnd.jupyter.widget-view+json": {
       "model_id": "d04c201df7bd4ad29fc4f9484dec7306",
       "version_major": 2,
       "version_minor": 0
      },
      "text/plain": [
       "NGLWidget(max_frame=134)"
      ]
     },
     "metadata": {},
     "output_type": "display_data"
    }
   ],
   "source": [
    "# Parameters\n",
    "scaling_factor = 30\n",
    "npz_files = [\n",
    "    \"/home/bfd21/rds/hpc-work/tbg/result_data/Dec-5-2024/NEW_200E_bb_all_sc_adj_batch-0.npz\",\n",
    "    \"/home/bfd21/rds/hpc-work/tbg/result_data/Dec-5-2024/NEW_200E_bb_all_sc_adj_batch-1.npz\",\n",
    "]\n",
    "\n",
    "# Load PDB and infer bonds\n",
    "pdb = md.load(pdb_path)\n",
    "pdb.topology.create_standard_bonds()  # Infer bonds based on atom types and residue connectivity\n",
    "topology = pdb.topology\n",
    "\n",
    "# Load and process generated samples\n",
    "all_samples = []\n",
    "for npz_file in npz_files:\n",
    "    data = np.load(npz_file)\n",
    "    samples_np = data[\"samples_np\"]\n",
    "    # Reshape samples to match the number of particles and scale them\n",
    "    n_particles = len(list(topology.atoms))\n",
    "    samples = samples_np.reshape(-1, n_particles, 3) * scaling_factor\n",
    "    all_samples.append(samples)\n",
    "\n",
    "# Combine all samples into a single array\n",
    "all_samples = np.concatenate(all_samples, axis=0)\n",
    "\n",
    "# Create an MDTraj trajectory with the inferred bonds\n",
    "traj = md.Trajectory(\n",
    "    xyz=all_samples,  # Shape: (n_frames, n_atoms, 3)\n",
    "    topology=topology\n",
    ")\n",
    "\n",
    "# Center the trajectory around the origin\n",
    "traj.center_coordinates()\n",
    "\n",
    "# Visualize using nglview\n",
    "view = nv.show_mdtraj(traj)\n",
    "\n",
    "# Representations\n",
    "view.add_representation(\"cartoon\", selection=\"protein\")  # Protein backbone\n",
    "view.add_representation(\"ball+stick\", selection=\"all\", radius=0.5)  # Atoms and bonds\n",
    "\n",
    "# Display the visualization\n",
    "view\n"
   ]
  },
  {
   "cell_type": "markdown",
   "metadata": {},
   "source": [
    "**Real Data**"
   ]
  },
  {
   "cell_type": "code",
   "execution_count": 13,
   "metadata": {},
   "outputs": [
    {
     "data": {
      "application/vnd.jupyter.widget-view+json": {
       "model_id": "ed5eb668c6194adb8d5f6a736c00de4d",
       "version_major": 2,
       "version_minor": 0
      },
      "text/plain": [
       "NGLWidget(max_frame=178580)"
      ]
     },
     "metadata": {},
     "output_type": "display_data"
    }
   ],
   "source": [
    "# Parameters\n",
    "scaling_factor = 30\n",
    "pdb_path = \"/home/bfd21/rds/hpc-work/sample_cyclic_md/ligand-only/dummy1/l1.pdb\"\n",
    "npy_files = [\n",
    "    \"/home/bfd21/rds/hpc-work/sample_cyclic_md/ligand-only/dummy1/dummy1_test.npy\",\n",
    "    \"/home/bfd21/rds/hpc-work/sample_cyclic_md/ligand-only/dummy1/dummy1_train.npy\",\n",
    "]\n",
    "\n",
    "# Load PDB and infer bonds\n",
    "pdb = md.load(pdb_path)\n",
    "pdb.topology.create_standard_bonds()  # Infer bonds based on atom types and residue connectivity\n",
    "topology = pdb.topology\n",
    "n_atoms = len(list(topology.atoms))  # Convert generator to list and measure length\n",
    "\n",
    "# Load and process generated samples\n",
    "all_samples = []\n",
    "for npy_file in npy_files:\n",
    "    samples_np = np.load(npy_file)\n",
    "    # Reshape samples to match the number of particles and scale them\n",
    "    samples = samples_np.reshape(-1, n_atoms, 3) * scaling_factor\n",
    "    all_samples.append(samples)\n",
    "\n",
    "# Combine all samples into a single array\n",
    "all_samples = np.concatenate(all_samples, axis=0)\n",
    "\n",
    "# Create an MDTraj trajectory with the inferred bonds\n",
    "traj = md.Trajectory(\n",
    "    xyz=all_samples,  # Shape: (n_frames, n_atoms, 3)\n",
    "    topology=topology  # Preserve bonds from the PDB\n",
    ")\n",
    "\n",
    "# Center the trajectory around the origin\n",
    "traj.center_coordinates()\n",
    "\n",
    "# Visualize using nglview\n",
    "view = nv.show_mdtraj(traj)\n",
    "\n",
    "# Representations\n",
    "view.add_representation(\"cartoon\", selection=\"protein\")  # Protein backbone\n",
    "view.add_representation(\"ball+stick\", selection=\"all\", radius=0.5)  # Atoms and bonds\n",
    "\n",
    "# Display the visualization\n",
    "view\n"
   ]
  }
 ],
 "metadata": {
  "kernelspec": {
   "display_name": "data_viz0",
   "language": "python",
   "name": "python3"
  },
  "language_info": {
   "codemirror_mode": {
    "name": "ipython",
    "version": 3
   },
   "file_extension": ".py",
   "mimetype": "text/x-python",
   "name": "python",
   "nbconvert_exporter": "python",
   "pygments_lexer": "ipython3",
   "version": "3.9.18"
  }
 },
 "nbformat": 4,
 "nbformat_minor": 2
}
