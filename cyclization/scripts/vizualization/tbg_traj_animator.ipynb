{
 "cells": [
  {
   "cell_type": "code",
   "execution_count": 1,
   "metadata": {},
   "outputs": [
    {
     "data": {
      "application/vnd.jupyter.widget-view+json": {
       "model_id": "3bc9a45d382b4c70af4227d6819a81e7",
       "version_major": 2,
       "version_minor": 0
      },
      "text/plain": []
     },
     "metadata": {},
     "output_type": "display_data"
    }
   ],
   "source": [
    "# trying to use data_viz1 for this\n",
    "\n",
    "import dill\n",
    "import mdtraj as md\n",
    "import numpy as np\n",
    "import nglview as nv"
   ]
  },
  {
   "cell_type": "code",
   "execution_count": null,
   "metadata": {},
   "outputs": [],
   "source": [
    "relevant_pkl = \"your_file.pkl\"\n",
    "\n",
    "# Load the positions and times\n",
    "with open(relevant_pkl, \"rb\") as f:\n",
    "    data = dill.load(f)\n",
    "\n",
    "# Assuming data is a dictionary with 'positions' as an array of shape (n_frames, n_atoms, 3)\n",
    "# and 'times' as an array of shape (n_frames,)\n",
    "positions = np.array(data[\"positions\"])  # Shape: (n_frames, n_atoms, 3)\n",
    "times = np.array(data[\"times\"])  # Shape: (n_frames,)\n",
    "\n",
    "# Load the PDB topology\n",
    "topology = md.load(\"your_structure.pdb\").topology\n",
    "\n",
    "# Create the trajectory\n",
    "traj = md.Trajectory(positions, topology)\n",
    "\n",
    "# Create an nglview widget\n",
    "view = nv.show_mdtraj(traj)\n",
    "\n",
    "# Display the viewer\n",
    "view"
   ]
  }
 ],
 "metadata": {
  "kernelspec": {
   "display_name": "data_viz1",
   "language": "python",
   "name": "python3"
  },
  "language_info": {
   "codemirror_mode": {
    "name": "ipython",
    "version": 3
   },
   "file_extension": ".py",
   "mimetype": "text/x-python",
   "name": "python",
   "nbconvert_exporter": "python",
   "pygments_lexer": "ipython3",
   "version": "3.10.16"
  }
 },
 "nbformat": 4,
 "nbformat_minor": 2
}
