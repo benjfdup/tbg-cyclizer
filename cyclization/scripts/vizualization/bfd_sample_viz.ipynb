{
 "cells": [
  {
   "cell_type": "code",
   "execution_count": 1,
   "metadata": {},
   "outputs": [
    {
     "data": {
      "application/vnd.jupyter.widget-view+json": {
       "model_id": "af801eca75234955b4e99e990c65db8c",
       "version_major": 2,
       "version_minor": 0
      },
      "text/plain": []
     },
     "metadata": {},
     "output_type": "display_data"
    }
   ],
   "source": [
    "### cannot be done in test_ben0 conda environment due to collisions. Instead, I'll make another conda env\n",
    "### specifically for data viz. I will call it: data_viz0 (lol)\n",
    "### remember, use test_ben0 for actual inference.\n",
    "\n",
    "import numpy as np\n",
    "import mdtraj as md\n",
    "import nglview as nv"
   ]
  },
  {
   "cell_type": "markdown",
   "metadata": {},
   "source": [
    "**Raw PDB, visualized:**"
   ]
  },
  {
   "cell_type": "code",
   "execution_count": 3,
   "metadata": {},
   "outputs": [
    {
     "data": {
      "application/vnd.jupyter.widget-view+json": {
       "model_id": "3427a6fd01444f149d893c761a71cef2",
       "version_major": 2,
       "version_minor": 0
      },
      "text/plain": [
       "NGLWidget()"
      ]
     },
     "metadata": {},
     "output_type": "display_data"
    }
   ],
   "source": [
    "pdb_path = \"/home/bfd21/rds/hpc-work/data/MDM2-sample-binders/ligand-only/l1/ligand1.pdb\"\n",
    "\n",
    "# Path to your PDB file\n",
    "\n",
    "# Load the PDB file using MDTraj\n",
    "traj = md.load(pdb_path)\n",
    "\n",
    "# Visualize using nglview\n",
    "view = nv.show_mdtraj(traj)\n",
    "\n",
    "# Add a basic representation (ball-and-stick for atoms and bonds)\n",
    "view.add_representation(\"ball+stick\", selection=\"all\")\n",
    "\n",
    "# Display the visualization\n",
    "view\n"
   ]
  },
  {
   "cell_type": "markdown",
   "metadata": {},
   "source": [
    "**Inference, No cond on time (100 Epocs):**"
   ]
  },
  {
   "cell_type": "code",
   "execution_count": 4,
   "metadata": {},
   "outputs": [
    {
     "data": {
      "application/vnd.jupyter.widget-view+json": {
       "model_id": "1fa58570f76741cf8b60e975fd991cc3",
       "version_major": 2,
       "version_minor": 0
      },
      "text/plain": [
       "NGLWidget(max_frame=999)"
      ]
     },
     "metadata": {},
     "output_type": "display_data"
    }
   ],
   "source": [
    "# Parameters\n",
    "npz_files = [\n",
    "    \"/home/bfd21/rds/hpc-work/tbg/cyclization/jobs/l1-sample-Feb-11/unconditioned-on-cyc/unconditioned-on-time/unc-cyc-unc-time-l1-inference_batch-0.npz\",\n",
    "    '/home/bfd21/rds/hpc-work/tbg/cyclization/jobs/l1-sample-Feb-11/unconditioned-on-cyc/unconditioned-on-time/unc-cyc-unc-time-l1-inference_batch-1.npz',\n",
    "    '/home/bfd21/rds/hpc-work/tbg/cyclization/jobs/l1-sample-Feb-11/unconditioned-on-cyc/unconditioned-on-time/unc-cyc-unc-time-l1-inference_batch-2.npz',\n",
    "    '/home/bfd21/rds/hpc-work/tbg/cyclization/jobs/l1-sample-Feb-11/unconditioned-on-cyc/unconditioned-on-time/unc-cyc-unc-time-l1-inference_batch-3.npz',\n",
    "]\n",
    "\n",
    "# Load PDB and infer bonds\n",
    "pdb = md.load(pdb_path)\n",
    "pdb.topology.create_standard_bonds()  # Infer bonds based on atom types and residue connectivity\n",
    "topology = pdb.topology\n",
    "\n",
    "# Load and process generated samples\n",
    "all_samples = []\n",
    "for npz_file in npz_files:\n",
    "    data = np.load(npz_file)\n",
    "    samples_np = data[\"samples_np\"]\n",
    "    # Reshape samples to match the number of particles and scale them\n",
    "    n_particles = len(list(topology.atoms))\n",
    "    samples = samples_np.reshape(-1, n_particles, 3)\n",
    "    all_samples.append(samples)\n",
    "\n",
    "# Combine all samples into a single array\n",
    "all_samples = np.concatenate(all_samples, axis=0)\n",
    "\n",
    "# Create an MDTraj trajectory with the inferred bonds\n",
    "traj = md.Trajectory(\n",
    "    xyz=all_samples,  # Shape: (n_frames, n_atoms, 3)\n",
    "    topology=topology\n",
    ")\n",
    "\n",
    "# Center the trajectory around the origin\n",
    "traj.center_coordinates()\n",
    "\n",
    "# Visualize using nglview\n",
    "view = nv.show_mdtraj(traj)\n",
    "\n",
    "# Representations\n",
    "view.add_representation(\"cartoon\", selection=\"protein\")  # Protein backbone\n",
    "view.add_representation(\"ball+stick\", selection=\"all\", radius=0.5)  # Atoms and bonds\n",
    "\n",
    "# Display the visualization\n",
    "view"
   ]
  },
  {
   "cell_type": "markdown",
   "metadata": {},
   "source": [
    "**Inference Data (100 epochs):**"
   ]
  },
  {
   "cell_type": "code",
   "execution_count": 5,
   "metadata": {},
   "outputs": [
    {
     "data": {
      "application/vnd.jupyter.widget-view+json": {
       "model_id": "80c92c61b2f64be1a6834df00d2d5512",
       "version_major": 2,
       "version_minor": 0
      },
      "text/plain": [
       "NGLWidget(max_frame=134)"
      ]
     },
     "metadata": {},
     "output_type": "display_data"
    }
   ],
   "source": [
    "# Parameters\n",
    "scaling_factor = 30\n",
    "npz_files = [\n",
    "    \"/home/bfd21/rds/hpc-work/tbg/result_data/Dec-3-2024/bb_all_sc_adj_batch-0.npz\",\n",
    "    \"/home/bfd21/rds/hpc-work/tbg/result_data/Dec-3-2024/bb_all_sc_adj_batch-1.npz\",\n",
    "]\n",
    "\n",
    "# Load PDB and infer bonds\n",
    "pdb = md.load(pdb_path)\n",
    "pdb.topology.create_standard_bonds()  # Infer bonds based on atom types and residue connectivity\n",
    "topology = pdb.topology\n",
    "\n",
    "# Load and process generated samples\n",
    "all_samples = []\n",
    "for npz_file in npz_files:\n",
    "    data = np.load(npz_file)\n",
    "    samples_np = data[\"samples_np\"]\n",
    "    # Reshape samples to match the number of particles and scale them\n",
    "    n_particles = len(list(topology.atoms))\n",
    "    samples = samples_np.reshape(-1, n_particles, 3) * scaling_factor\n",
    "    all_samples.append(samples)\n",
    "\n",
    "# Combine all samples into a single array\n",
    "all_samples = np.concatenate(all_samples, axis=0)\n",
    "\n",
    "# Create an MDTraj trajectory with the inferred bonds\n",
    "traj = md.Trajectory(\n",
    "    xyz=all_samples,  # Shape: (n_frames, n_atoms, 3)\n",
    "    topology=topology\n",
    ")\n",
    "\n",
    "# Center the trajectory around the origin\n",
    "traj.center_coordinates()\n",
    "\n",
    "# Visualize using nglview\n",
    "view = nv.show_mdtraj(traj)\n",
    "\n",
    "# Representations\n",
    "view.add_representation(\"cartoon\", selection=\"protein\")  # Protein backbone\n",
    "view.add_representation(\"ball+stick\", selection=\"all\", radius=0.5)  # Atoms and bonds\n",
    "\n",
    "# Display the visualization\n",
    "view\n"
   ]
  },
  {
   "cell_type": "markdown",
   "metadata": {},
   "source": [
    "**Inference Data (200 epochs):**"
   ]
  },
  {
   "cell_type": "code",
   "execution_count": 5,
   "metadata": {},
   "outputs": [
    {
     "data": {
      "application/vnd.jupyter.widget-view+json": {
       "model_id": "48be656bde49496391fbd140333399ec",
       "version_major": 2,
       "version_minor": 0
      },
      "text/plain": [
       "NGLWidget(max_frame=134)"
      ]
     },
     "metadata": {},
     "output_type": "display_data"
    }
   ],
   "source": [
    "# Parameters\n",
    "scaling_factor = 30\n",
    "npz_files = [\n",
    "    \"/home/bfd21/rds/hpc-work/tbg/result_data/Dec-5-2024/NEW_200E_bb_all_sc_adj_batch-0.npz\",\n",
    "    \"/home/bfd21/rds/hpc-work/tbg/result_data/Dec-5-2024/NEW_200E_bb_all_sc_adj_batch-1.npz\",\n",
    "]\n",
    "\n",
    "# Load PDB and infer bonds\n",
    "pdb = md.load(pdb_path)\n",
    "pdb.topology.create_standard_bonds()  # Infer bonds based on atom types and residue connectivity\n",
    "topology = pdb.topology\n",
    "\n",
    "# Load and process generated samples\n",
    "all_samples = []\n",
    "for npz_file in npz_files:\n",
    "    data = np.load(npz_file)\n",
    "    samples_np = data[\"samples_np\"]\n",
    "    # Reshape samples to match the number of particles and scale them\n",
    "    n_particles = len(list(topology.atoms))\n",
    "    samples = samples_np.reshape(-1, n_particles, 3) * scaling_factor\n",
    "    all_samples.append(samples)\n",
    "\n",
    "# Combine all samples into a single array\n",
    "all_samples = np.concatenate(all_samples, axis=0)\n",
    "\n",
    "# Create an MDTraj trajectory with the inferred bonds\n",
    "traj = md.Trajectory(\n",
    "    xyz=all_samples,  # Shape: (n_frames, n_atoms, 3)\n",
    "    topology=topology\n",
    ")\n",
    "\n",
    "# Center the trajectory around the origin\n",
    "traj.center_coordinates()\n",
    "\n",
    "# Visualize using nglview\n",
    "view = nv.show_mdtraj(traj)\n",
    "\n",
    "# Representations\n",
    "view.add_representation(\"cartoon\", selection=\"protein\")  # Protein backbone\n",
    "view.add_representation(\"ball+stick\", selection=\"all\", radius=0.5)  # Atoms and bonds\n",
    "\n",
    "# Display the visualization\n",
    "view\n"
   ]
  },
  {
   "cell_type": "markdown",
   "metadata": {},
   "source": [
    "**Real Data**"
   ]
  },
  {
   "cell_type": "code",
   "execution_count": 6,
   "metadata": {},
   "outputs": [
    {
     "data": {
      "application/vnd.jupyter.widget-view+json": {
       "model_id": "f5660311b5b245f08f91659fd0af3c8d",
       "version_major": 2,
       "version_minor": 0
      },
      "text/plain": [
       "NGLWidget(max_frame=178580)"
      ]
     },
     "metadata": {},
     "output_type": "display_data"
    }
   ],
   "source": [
    "# Parameters\n",
    "scaling_factor = 30\n",
    "pdb_path = \"/home/bfd21/rds/hpc-work/sample_cyclic_md/ligand-only/dummy1/l1.pdb\"\n",
    "npy_files = [\n",
    "    \"/home/bfd21/rds/hpc-work/sample_cyclic_md/ligand-only/dummy1/dummy1_test.npy\",\n",
    "    \"/home/bfd21/rds/hpc-work/sample_cyclic_md/ligand-only/dummy1/dummy1_train.npy\",\n",
    "]\n",
    "\n",
    "# Load PDB and infer bonds\n",
    "pdb = md.load(pdb_path)\n",
    "pdb.topology.create_standard_bonds()  # Infer bonds based on atom types and residue connectivity\n",
    "topology = pdb.topology\n",
    "n_atoms = len(list(topology.atoms))  # Convert generator to list and measure length\n",
    "\n",
    "# Load and process generated samples\n",
    "all_samples = []\n",
    "for npy_file in npy_files:\n",
    "    samples_np = np.load(npy_file)\n",
    "    # Reshape samples to match the number of particles and scale them\n",
    "    samples = samples_np.reshape(-1, n_atoms, 3) * scaling_factor\n",
    "    all_samples.append(samples)\n",
    "\n",
    "# Combine all samples into a single array\n",
    "all_samples = np.concatenate(all_samples, axis=0)\n",
    "\n",
    "# Create an MDTraj trajectory with the inferred bonds\n",
    "traj = md.Trajectory(\n",
    "    xyz=all_samples,  # Shape: (n_frames, n_atoms, 3)\n",
    "    topology=topology  # Preserve bonds from the PDB\n",
    ")\n",
    "\n",
    "# Center the trajectory around the origin\n",
    "traj.center_coordinates()\n",
    "\n",
    "# Visualize using nglview\n",
    "view = nv.show_mdtraj(traj)\n",
    "\n",
    "# Representations\n",
    "view.add_representation(\"cartoon\", selection=\"protein\")  # Protein backbone\n",
    "view.add_representation(\"ball+stick\", selection=\"all\", radius=0.5)  # Atoms and bonds\n",
    "\n",
    "# Display the visualization\n",
    "view\n"
   ]
  },
  {
   "cell_type": "markdown",
   "metadata": {},
   "source": [
    "**Test Loss Implementation**"
   ]
  },
  {
   "cell_type": "code",
   "execution_count": 7,
   "metadata": {},
   "outputs": [
    {
     "data": {
      "application/vnd.jupyter.widget-view+json": {
       "model_id": "e4c26a20f1f4493980648011bb411a8a",
       "version_major": 2,
       "version_minor": 0
      },
      "text/plain": [
       "NGLWidget(max_frame=29)"
      ]
     },
     "metadata": {},
     "output_type": "display_data"
    }
   ],
   "source": [
    "# Parameters\n",
    "scaling_factor = 1\n",
    "npz_files = [\n",
    "    \"/home/bfd21/rds/hpc-work/tbg/result_data/Dec-9-2024/bb_all_sc_adj_plus_l_cyclic_batch-0.npz\",\n",
    "    \"/home/bfd21/rds/hpc-work/tbg/result_data/Dec-9-2024/bb_all_sc_adj_plus_l_cyclic_batch-1.npz\",\n",
    "]\n",
    "\n",
    "# Load PDB and infer bonds\n",
    "pdb = md.load(pdb_path)\n",
    "pdb.topology.create_standard_bonds()  # Infer bonds based on atom types and residue connectivity\n",
    "topology = pdb.topology\n",
    "\n",
    "# Load and process generated samples\n",
    "all_samples = []\n",
    "for npz_file in npz_files:\n",
    "    data = np.load(npz_file)\n",
    "    samples_np = data[\"samples_np\"]\n",
    "    # Reshape samples to match the number of particles and scale them\n",
    "    n_particles = len(list(topology.atoms))\n",
    "    samples = samples_np.reshape(-1, n_particles, 3) * scaling_factor\n",
    "    all_samples.append(samples)\n",
    "\n",
    "# Combine all samples into a single array\n",
    "all_samples = np.concatenate(all_samples, axis=0)\n",
    "\n",
    "# Create an MDTraj trajectory with the inferred bonds\n",
    "traj = md.Trajectory(\n",
    "    xyz=all_samples,  # Shape: (n_frames, n_atoms, 3)\n",
    "    topology=topology\n",
    ")\n",
    "\n",
    "# Center the trajectory around the origin\n",
    "traj.center_coordinates()\n",
    "\n",
    "# Visualize using nglview\n",
    "view = nv.show_mdtraj(traj)\n",
    "\n",
    "# Representations\n",
    "view.add_representation(\"cartoon\", selection=\"protein\")  # Protein backbone\n",
    "view.add_representation(\"ball+stick\", selection=\"all\", radius=0.5)  # Atoms and bonds\n",
    "\n",
    "# Display the visualization\n",
    "view\n"
   ]
  },
  {
   "cell_type": "markdown",
   "metadata": {},
   "source": [
    "**Below is some code for the sanity check. Merely to visualize the generated samples and the cyclization schemes picked**"
   ]
  },
  {
   "cell_type": "code",
   "execution_count": 4,
   "metadata": {},
   "outputs": [
    {
     "data": {
      "application/vnd.jupyter.widget-view+json": {
       "model_id": "4adc88d4214048c5a989a1cf9e8d97fe",
       "version_major": 2,
       "version_minor": 0
      },
      "text/plain": [
       "NGLWidget()"
      ]
     },
     "metadata": {},
     "output_type": "display_data"
    }
   ],
   "source": [
    "### Sanity Check visualization.\n",
    "import numpy as np\n",
    "import mdtraj as md\n",
    "import nglview as nv\n",
    "import pickle\n",
    "\n",
    "pdb_path = \"/home/bfd21/rds/hpc-work/sample_macrocycle_md/N-Cap2/system_sanity.pdb\"\n",
    "\n",
    "# Path to your PDB file\n",
    "\n",
    "# Load the PDB file using MDTraj\n",
    "traj = md.load(pdb_path)\n",
    "\n",
    "# Visualize using nglview\n",
    "view = nv.show_mdtraj(traj)\n",
    "\n",
    "# Add a basic representation (ball-and-stick for atoms and bonds)\n",
    "view.add_representation(\"ball+stick\", selection=\"all\")\n",
    "\n",
    "# Display the visualization\n",
    "view"
   ]
  },
  {
   "cell_type": "code",
   "execution_count": 5,
   "metadata": {},
   "outputs": [],
   "source": [
    "###################################################\n",
    "# BOILER PLATE STARTING VIZ CODE\n",
    "###################################################\n",
    "\n",
    "# Define paths\n",
    "loss_handler_path = 'path_to_loss_handler.pkl'  # Update with the correct path\n",
    "npy_files = ['path_to_batch1.npy', 'path_to_batch2.npy']  # Update with paths to your .npy files\n",
    "\n",
    "# Load PDB and infer bonds\n",
    "pdb = md.load(pdb_path)\n",
    "pdb.topology.create_standard_bonds()  # Infer bonds based on atom types and residue connectivity\n",
    "topology = pdb.topology\n",
    "\n",
    "# Scaling factor and number of atoms (update as needed)\n",
    "n_atoms = traj.n_atoms\n",
    "\n",
    "# Load the loss handler\n",
    "with open(loss_handler_path, \"rb\") as f:\n",
    "    loss_handler = pickle.load(f)\n",
    "print(\"Loss handler successfully loaded.\")\n",
    "\n",
    "# Load and process generated samples\n",
    "batches = []\n",
    "for npy_file in npy_files:\n",
    "    samples_np = np.load(npy_file)\n",
    "    # Reshape samples to match the number of particles and scale them\n",
    "    samples = samples_np.reshape(-1, n_atoms, 3)\n",
    "    batches.append(samples)\n",
    "\n",
    "# Combine all samples into a single array\n",
    "batches = np.concatenate(batches, axis=0)\n",
    "\n",
    "print(f\"Combined samples shape: {batches.shape}\")\n",
    "\n",
    "# Create an MDTraj trajectory with the inferred bonds\n",
    "traj = md.Trajectory(\n",
    "    xyz=batches,  # Shape: (n_frames, n_atoms, 3)\n",
    "    topology=topology\n",
    ")\n",
    "\n",
    "# Center the trajectory around the origin\n",
    "traj.center_coordinates()\n",
    "\n",
    "# Visualize using nglview\n",
    "view = nv.show_mdtraj(traj)\n",
    "\n",
    "# Representations\n",
    "view.add_representation(\"cartoon\", selection=\"protein\")  # Protein backbone\n",
    "view.add_representation(\"ball+stick\", selection=\"all\", radius=0.5)  # Atoms and bonds\n",
    "\n",
    "# Display the visualization\n",
    "view\n"
   ]
  }
 ],
 "metadata": {
  "kernelspec": {
   "display_name": "data_viz0",
   "language": "python",
   "name": "python3"
  },
  "language_info": {
   "codemirror_mode": {
    "name": "ipython",
    "version": 3
   },
   "file_extension": ".py",
   "mimetype": "text/x-python",
   "name": "python",
   "nbconvert_exporter": "python",
   "pygments_lexer": "ipython3",
   "version": "3.9.18"
  }
 },
 "nbformat": 4,
 "nbformat_minor": 2
}
