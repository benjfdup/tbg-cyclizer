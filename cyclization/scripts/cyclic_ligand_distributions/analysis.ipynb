{
 "cells": [
  {
   "cell_type": "markdown",
   "metadata": {},
   "source": [
    "### Objective 1\n",
    "We want something which will, given the md trajectory, calculate the dihedral angles (from this we can get their distributions)\n",
    "given the relevant SMILES string.\n",
    "\n",
    "### Objective 2\n",
    "We also want something to plot the csv file data, so that we can do a sanity check to ensure the macroscopic properties (temp, pressure)\n",
    "are reasonable and are not discontinuous."
   ]
  },
  {
   "cell_type": "code",
   "execution_count": 2,
   "metadata": {},
   "outputs": [
    {
     "ename": "KeyboardInterrupt",
     "evalue": "",
     "output_type": "error",
     "traceback": [
      "\u001b[0;31m---------------------------------------------------------------------------\u001b[0m",
      "\u001b[0;31mKeyboardInterrupt\u001b[0m                         Traceback (most recent call last)",
      "Cell \u001b[0;32mIn[2], line 6\u001b[0m\n\u001b[1;32m      3\u001b[0m \u001b[38;5;28;01mfrom\u001b[39;00m \u001b[38;5;21;01mopenmm\u001b[39;00m \u001b[38;5;28;01mimport\u001b[39;00m \u001b[38;5;241m*\u001b[39m\n\u001b[1;32m      4\u001b[0m \u001b[38;5;28;01mfrom\u001b[39;00m \u001b[38;5;21;01mopenmm\u001b[39;00m\u001b[38;5;21;01m.\u001b[39;00m\u001b[38;5;21;01mapp\u001b[39;00m \u001b[38;5;28;01mimport\u001b[39;00m \u001b[38;5;241m*\u001b[39m\n\u001b[0;32m----> 6\u001b[0m \u001b[38;5;28;01mimport\u001b[39;00m \u001b[38;5;21;01mmdtraj\u001b[39;00m\n\u001b[1;32m      7\u001b[0m \u001b[38;5;28;01mimport\u001b[39;00m \u001b[38;5;21;01mmatplotlib\u001b[39;00m\u001b[38;5;21;01m.\u001b[39;00m\u001b[38;5;21;01mpyplot\u001b[39;00m \u001b[38;5;28;01mas\u001b[39;00m \u001b[38;5;21;01mplt\u001b[39;00m\n\u001b[1;32m      8\u001b[0m \u001b[38;5;28;01mimport\u001b[39;00m \u001b[38;5;21;01mnumpy\u001b[39;00m \u001b[38;5;28;01mas\u001b[39;00m \u001b[38;5;21;01mnp\u001b[39;00m\n",
      "File \u001b[0;32m~/rds/hpc-work/miniconda3/envs/data_viz1/lib/python3.10/site-packages/mdtraj/__init__.py:116\u001b[0m\n\u001b[1;32m    104\u001b[0m \u001b[38;5;28;01mfrom\u001b[39;00m \u001b[38;5;21;01mmdtraj\u001b[39;00m\u001b[38;5;21;01m.\u001b[39;00m\u001b[38;5;21;01mnmr\u001b[39;00m \u001b[38;5;28;01mimport\u001b[39;00m (\n\u001b[1;32m    105\u001b[0m     chemical_shifts_ppm,\n\u001b[1;32m    106\u001b[0m     chemical_shifts_shiftx2,\n\u001b[0;32m   (...)\u001b[0m\n\u001b[1;32m    112\u001b[0m     reindex_dataframe_by_atoms,\n\u001b[1;32m    113\u001b[0m )\n\u001b[1;32m    115\u001b[0m \u001b[38;5;28;01mfrom\u001b[39;00m \u001b[38;5;21;01m.\u001b[39;00m \u001b[38;5;28;01mimport\u001b[39;00m reporters\n\u001b[0;32m--> 116\u001b[0m \u001b[38;5;28;01mfrom\u001b[39;00m \u001b[38;5;21;01m.\u001b[39;00m\u001b[38;5;21;01m_lprmsd\u001b[39;00m \u001b[38;5;28;01mimport\u001b[39;00m lprmsd\n\u001b[1;32m    117\u001b[0m \u001b[38;5;28;01mfrom\u001b[39;00m \u001b[38;5;21;01m.\u001b[39;00m\u001b[38;5;21;01m_rmsd\u001b[39;00m \u001b[38;5;28;01mimport\u001b[39;00m rmsd, rmsf\n\u001b[1;32m    119\u001b[0m \u001b[38;5;28;01mfrom\u001b[39;00m \u001b[38;5;21;01m.\u001b[39;00m \u001b[38;5;28;01mimport\u001b[39;00m _version\n",
      "File \u001b[0;32mmdtraj/rmsd/_lprmsd.pyx:29\u001b[0m, in \u001b[0;36minit mdtraj._lprmsd\u001b[0;34m()\u001b[0m\n",
      "File \u001b[0;32m~/rds/hpc-work/miniconda3/envs/data_viz1/lib/python3.10/site-packages/scipy/spatial/__init__.py:116\u001b[0m\n\u001b[1;32m    114\u001b[0m \u001b[38;5;28;01mfrom\u001b[39;00m \u001b[38;5;21;01m.\u001b[39;00m\u001b[38;5;21;01m_plotutils\u001b[39;00m \u001b[38;5;28;01mimport\u001b[39;00m \u001b[38;5;241m*\u001b[39m\n\u001b[1;32m    115\u001b[0m \u001b[38;5;28;01mfrom\u001b[39;00m \u001b[38;5;21;01m.\u001b[39;00m\u001b[38;5;21;01m_procrustes\u001b[39;00m \u001b[38;5;28;01mimport\u001b[39;00m procrustes\n\u001b[0;32m--> 116\u001b[0m \u001b[38;5;28;01mfrom\u001b[39;00m \u001b[38;5;21;01m.\u001b[39;00m\u001b[38;5;21;01m_geometric_slerp\u001b[39;00m \u001b[38;5;28;01mimport\u001b[39;00m geometric_slerp\n\u001b[1;32m    118\u001b[0m \u001b[38;5;66;03m# Deprecated namespaces, to be removed in v2.0.0\u001b[39;00m\n\u001b[1;32m    119\u001b[0m \u001b[38;5;28;01mfrom\u001b[39;00m \u001b[38;5;21;01m.\u001b[39;00m \u001b[38;5;28;01mimport\u001b[39;00m ckdtree, kdtree, qhull\n",
      "File \u001b[0;32m~/rds/hpc-work/miniconda3/envs/data_viz1/lib/python3.10/site-packages/scipy/spatial/_geometric_slerp.py:7\u001b[0m\n\u001b[1;32m      4\u001b[0m \u001b[38;5;28;01mfrom\u001b[39;00m \u001b[38;5;21;01mtyping\u001b[39;00m \u001b[38;5;28;01mimport\u001b[39;00m TYPE_CHECKING\n\u001b[1;32m      6\u001b[0m \u001b[38;5;28;01mimport\u001b[39;00m \u001b[38;5;21;01mnumpy\u001b[39;00m \u001b[38;5;28;01mas\u001b[39;00m \u001b[38;5;21;01mnp\u001b[39;00m\n\u001b[0;32m----> 7\u001b[0m \u001b[38;5;28;01mfrom\u001b[39;00m \u001b[38;5;21;01mscipy\u001b[39;00m\u001b[38;5;21;01m.\u001b[39;00m\u001b[38;5;21;01mspatial\u001b[39;00m\u001b[38;5;21;01m.\u001b[39;00m\u001b[38;5;21;01mdistance\u001b[39;00m \u001b[38;5;28;01mimport\u001b[39;00m euclidean\n\u001b[1;32m      9\u001b[0m \u001b[38;5;28;01mif\u001b[39;00m TYPE_CHECKING:\n\u001b[1;32m     10\u001b[0m     \u001b[38;5;28;01mimport\u001b[39;00m \u001b[38;5;21;01mnumpy\u001b[39;00m\u001b[38;5;21;01m.\u001b[39;00m\u001b[38;5;21;01mtyping\u001b[39;00m \u001b[38;5;28;01mas\u001b[39;00m \u001b[38;5;21;01mnpt\u001b[39;00m\n",
      "File \u001b[0;32m~/rds/hpc-work/miniconda3/envs/data_viz1/lib/python3.10/site-packages/scipy/spatial/distance.py:121\u001b[0m\n\u001b[1;32m    119\u001b[0m \u001b[38;5;28;01mfrom\u001b[39;00m \u001b[38;5;21;01m.\u001b[39;00m \u001b[38;5;28;01mimport\u001b[39;00m _hausdorff\n\u001b[1;32m    120\u001b[0m \u001b[38;5;28;01mfrom\u001b[39;00m \u001b[38;5;21;01m.\u001b[39;00m\u001b[38;5;21;01m.\u001b[39;00m\u001b[38;5;21;01mlinalg\u001b[39;00m \u001b[38;5;28;01mimport\u001b[39;00m norm\n\u001b[0;32m--> 121\u001b[0m \u001b[38;5;28;01mfrom\u001b[39;00m \u001b[38;5;21;01m.\u001b[39;00m\u001b[38;5;21;01m.\u001b[39;00m\u001b[38;5;21;01mspecial\u001b[39;00m \u001b[38;5;28;01mimport\u001b[39;00m rel_entr\n\u001b[1;32m    123\u001b[0m \u001b[38;5;28;01mfrom\u001b[39;00m \u001b[38;5;21;01m.\u001b[39;00m \u001b[38;5;28;01mimport\u001b[39;00m _distance_pybind\n\u001b[1;32m    126\u001b[0m \u001b[38;5;28;01mdef\u001b[39;00m \u001b[38;5;21m_copy_array_if_base_present\u001b[39m(a):\n",
      "File \u001b[0;32m~/rds/hpc-work/miniconda3/envs/data_viz1/lib/python3.10/site-packages/scipy/special/__init__.py:815\u001b[0m\n\u001b[1;32m    809\u001b[0m                 WinDLL(dll_path)\n\u001b[1;32m    812\u001b[0m _load_libsf_error_state()\n\u001b[0;32m--> 815\u001b[0m \u001b[38;5;28;01mfrom\u001b[39;00m \u001b[38;5;21;01m.\u001b[39;00m\u001b[38;5;21;01m_sf_error\u001b[39;00m \u001b[38;5;28;01mimport\u001b[39;00m SpecialFunctionWarning, SpecialFunctionError\n\u001b[1;32m    817\u001b[0m \u001b[38;5;28;01mfrom\u001b[39;00m \u001b[38;5;21;01m.\u001b[39;00m \u001b[38;5;28;01mimport\u001b[39;00m _ufuncs\n\u001b[1;32m    818\u001b[0m \u001b[38;5;28;01mfrom\u001b[39;00m \u001b[38;5;21;01m.\u001b[39;00m\u001b[38;5;21;01m_ufuncs\u001b[39;00m \u001b[38;5;28;01mimport\u001b[39;00m \u001b[38;5;241m*\u001b[39m\n",
      "File \u001b[0;32m<frozen importlib._bootstrap>:1027\u001b[0m, in \u001b[0;36m_find_and_load\u001b[0;34m(name, import_)\u001b[0m\n",
      "File \u001b[0;32m<frozen importlib._bootstrap>:1006\u001b[0m, in \u001b[0;36m_find_and_load_unlocked\u001b[0;34m(name, import_)\u001b[0m\n",
      "File \u001b[0;32m<frozen importlib._bootstrap>:688\u001b[0m, in \u001b[0;36m_load_unlocked\u001b[0;34m(spec)\u001b[0m\n",
      "File \u001b[0;32m<frozen importlib._bootstrap_external>:879\u001b[0m, in \u001b[0;36mexec_module\u001b[0;34m(self, module)\u001b[0m\n",
      "File \u001b[0;32m<frozen importlib._bootstrap_external>:975\u001b[0m, in \u001b[0;36mget_code\u001b[0;34m(self, fullname)\u001b[0m\n",
      "File \u001b[0;32m<frozen importlib._bootstrap_external>:1074\u001b[0m, in \u001b[0;36mget_data\u001b[0;34m(self, path)\u001b[0m\n",
      "\u001b[0;31mKeyboardInterrupt\u001b[0m: "
     ]
    }
   ],
   "source": [
    "import os\n",
    "\n",
    "from openmm import *\n",
    "from openmm.app import *\n",
    "\n",
    "import mdtraj\n",
    "import matplotlib.pyplot as plt\n",
    "import numpy as np\n",
    "import openmoltools\n",
    "import tempfile\n",
    "import cctk\n",
    "\n",
    "from rdkit import Chem\n",
    "from rdkit.Chem import AllChem"
   ]
  },
  {
   "cell_type": "code",
   "execution_count": null,
   "metadata": {},
   "outputs": [],
   "source": [
    "smiles_dict = {\n",
    "    'Lys-Tyr': 'CNCc1c(O)ccc(c1)C',\n",
    "    'Lys-Arg': 'N1(C)CN=C(NC1)NC',\n",
    "    'Sulfur-Mediated-Amide': 'SC[C@@H](NC(=O)C)C(=O)C',\n",
    "    'Carboxyl-Carboxyl': 'C(=O)(C)NCc1ccc(cc1)CNC(=O)C',\n",
    "    'Disulfide': 'N[C@H](C(=O)O)CSSC[C@@H](N)C(=O)O',\n",
    "    'Cys-Arg': 'CSCC(=O)NCCCC',\n",
    "    'Cys-Carboxyl': 'CSCC(=O)C',\n",
    "}\n",
    "\n",
    "pdb_dir = '/home/bfd21/rds/hpc-work/tbg/md_work/cyc_toy_pdbs'\n",
    "\n",
    "pdb_dict = {\n",
    "    'Lys-Tyr': os.path.join(pdb_dir, 'Lys-Tyr.pdb'),\n",
    "    'Lys-Arg': os.path.join(pdb_dir, 'Lys-Arg.pdb'),\n",
    "    'Sulfur-Mediated-Amide': os.path.join(pdb_dir, 'Sulfur-Mediated-Amide.pdb'),\n",
    "    'Carboxyl-Carboxyl': os.path.join(pdb_dir, 'Cys-Carboxyl.pdb'),\n",
    "    'Disulfide': os.path.join(pdb_dir, 'Disulfide.pdb'),\n",
    "    'Cys-Arg': os.path.join(pdb_dir, 'Cys-Arg.pdb'),\n",
    "    'Cys-Carboxyl': os.path.join(pdb_dir, 'Cys-Carboxyl.pdb'),\n",
    "}\n",
    "\n",
    "def generate_initial_pdb(\n",
    "    smiles: str,\n",
    "    min_side_length: int = 25, # Å\n",
    "    solvent_smiles = \"O\",\n",
    ") -> PDBFile:\n",
    "    \"\"\" Creates a PDB file for a solvated molecule, starting from two SMILES strings. \"\"\"\n",
    "\n",
    "    # do some math to figure how big the box needs to be\n",
    "    solute = cctk.Molecule.new_from_smiles(smiles)\n",
    "    solute_volume = solute.volume(qhull=True)\n",
    "    solvent = cctk.Molecule.new_from_smiles(solvent_smiles)\n",
    "    solvent_volume = solvent.volume(qhull=False)\n",
    "\n",
    "    total_volume = 50 * solute_volume # seems safe?\n",
    "    min_allowed_volume = min_side_length ** 3\n",
    "    total_volume = max(min_allowed_volume, total_volume)\n",
    "\n",
    "    total_solvent_volume = total_volume - solute_volume\n",
    "    n_solvent = int(total_solvent_volume // solvent_volume)\n",
    "    box_size = total_volume ** (1/3)\n",
    "\n",
    "    # build pdb\n",
    "    with tempfile.TemporaryDirectory() as tempdir:\n",
    "        solute_fname = f\"{tempdir}/solute.pdb\"\n",
    "        solvent_fname = f\"{tempdir}/solvent.pdb\"\n",
    "        system_fname = f\"system.pdb\"\n",
    "\n",
    "        smiles_to_pdb(smiles, solute_fname)\n",
    "        smiles_to_pdb(solvent_smiles, solvent_fname)\n",
    "        traj_packmol = openmoltools.packmol.pack_box(\n",
    "          [solute_fname, solvent_fname],\n",
    "          [1, n_solvent],\n",
    "          box_size=box_size\n",
    "         )\n",
    "        traj_packmol.save_pdb(system_fname)\n",
    "\n",
    "        return PDBFile(system_fname)\n",
    "\n",
    "def smiles_to_pdb(smiles: str, filename: str) -> None:\n",
    "    \"\"\" Turns a SMILES string into a PDB file (written to current working directory). \"\"\"\n",
    "    m = Chem.MolFromSmiles(smiles)\n",
    "    mh = Chem.AddHs(m)\n",
    "    AllChem.EmbedMolecule(mh)\n",
    "    Chem.MolToPDBFile(mh, filename)\n",
    "\n",
    "\n",
    "def load_trajectory(traj_path: str, pdb_path: str, fraction: float=0.2) -> md.Trajectory:\n",
    "    \"\"\"Load an MD trajectory from a .dcd file using a corresponding .pdb file for topology.\n",
    "    Only keeps the last `fraction` of the frames.\"\"\"\n",
    "    \n",
    "    # Load the topology from the PDB file\n",
    "    pdb_topology = md.load(pdb_path).topology\n",
    "    \n",
    "    # Print the expected number of atoms from the PDB\n",
    "    print(f\"Expected number of atoms from PDB: {pdb_topology.n_atoms}\")\n",
    "    \n",
    "    # Load the DCD trajectory\n",
    "    traj = md.load(traj_path, top=pdb_path)\n",
    "    \n",
    "    # Print the actual number of atoms from the DCD file\n",
    "    print(f\"Number of atoms in DCD file: {traj.topology.n_atoms}\")\n",
    "    \n",
    "    # Debugging: If mismatch, print first few atom names\n",
    "    if traj.topology.n_atoms != pdb_topology.n_atoms:\n",
    "        print(\"Mismatch detected! First few atoms in PDB:\")\n",
    "        for atom in pdb_topology.atoms[:10]:\n",
    "            print(atom)\n",
    "        print(\"First few atoms in DCD:\")\n",
    "        for atom in traj.topology.atoms[:10]:\n",
    "            print(atom)\n",
    "        raise ValueError(f\"Mismatch in atom numbers: Trajectory ({traj.topology.n_atoms}) vs PDB ({pdb_topology.n_atoms})\")\n",
    "    \n",
    "    # Keep only the last fraction of the trajectory\n",
    "    start_frame = int(traj.n_frames * (1 - fraction))\n",
    "    traj = traj[start_frame:]\n",
    "    \n",
    "    return traj"
   ]
  },
  {
   "cell_type": "code",
   "execution_count": null,
   "metadata": {},
   "outputs": [
    {
     "name": "stdout",
     "output_type": "stream",
     "text": [
      "Expected number of atoms from PDB: 24\n"
     ]
    },
    {
     "ename": "ValueError",
     "evalue": "The topology and the trajectory files might not contain the same atoms\nThe input topology must contain all atoms even if you want to select a subset of them with atom_indices",
     "output_type": "error",
     "traceback": [
      "\u001b[0;31m---------------------------------------------------------------------------\u001b[0m",
      "\u001b[0;31mValueError\u001b[0m                                Traceback (most recent call last)",
      "File \u001b[0;32m~/rds/hpc-work/miniconda3/envs/data_viz1/lib/python3.10/site-packages/mdtraj/core/trajectory.py:432\u001b[0m, in \u001b[0;36mload\u001b[0;34m(filename_or_filenames, discard_overlapping_frames, **kwargs)\u001b[0m\n\u001b[1;32m    423\u001b[0m \u001b[38;5;28;01mtry\u001b[39;00m:\n\u001b[1;32m    424\u001b[0m     \u001b[38;5;66;03m# this is a little hack that makes calling load() more predictable. since\u001b[39;00m\n\u001b[1;32m    425\u001b[0m     \u001b[38;5;66;03m# most of the loaders take a kwargs \"top\" except for load_hdf5, (since\u001b[39;00m\n\u001b[0;32m   (...)\u001b[0m\n\u001b[1;32m    430\u001b[0m     \u001b[38;5;66;03m# TODO make all the loaders accept a pre parsed topology (top) in order to avoid\u001b[39;00m\n\u001b[1;32m    431\u001b[0m     \u001b[38;5;66;03m# this part and have a more consistent interface and a faster load function\u001b[39;00m\n\u001b[0;32m--> 432\u001b[0m     t \u001b[38;5;241m=\u001b[39m \u001b[43mloader\u001b[49m\u001b[43m(\u001b[49m\u001b[43mtmp_file\u001b[49m\u001b[43m,\u001b[49m\u001b[43m \u001b[49m\u001b[38;5;241;43m*\u001b[39;49m\u001b[38;5;241;43m*\u001b[39;49m\u001b[43mkwargs\u001b[49m\u001b[43m)\u001b[49m\n\u001b[1;32m    434\u001b[0m \u001b[38;5;28;01mexcept\u001b[39;00m \u001b[38;5;167;01mTypeError\u001b[39;00m \u001b[38;5;28;01mas\u001b[39;00m e:\n\u001b[1;32m    435\u001b[0m     \u001b[38;5;66;03m# Don't want to intercept legit\u001b[39;00m\n\u001b[1;32m    436\u001b[0m     \u001b[38;5;66;03m# TypeErrors\u001b[39;00m\n",
      "File \u001b[0;32mmdtraj/formats/dcd/dcd.pyx:165\u001b[0m, in \u001b[0;36mmdtraj.formats.dcd.load_dcd\u001b[0;34m()\u001b[0m\n",
      "File \u001b[0;32mmdtraj/formats/dcd/dcd.pyx:171\u001b[0m, in \u001b[0;36mmdtraj.formats.dcd.load_dcd\u001b[0;34m()\u001b[0m\n",
      "File \u001b[0;32mmdtraj/formats/dcd/dcd.pyx:421\u001b[0m, in \u001b[0;36mmdtraj.formats.dcd.DCDTrajectoryFile.read_as_traj\u001b[0;34m()\u001b[0m\n",
      "File \u001b[0;32m~/rds/hpc-work/miniconda3/envs/data_viz1/lib/python3.10/site-packages/mdtraj/core/trajectory.py:1317\u001b[0m, in \u001b[0;36mTrajectory.__init__\u001b[0;34m(self, xyz, topology, time, unitcell_lengths, unitcell_angles)\u001b[0m\n\u001b[1;32m   1316\u001b[0m \u001b[38;5;28mself\u001b[39m\u001b[38;5;241m.\u001b[39mtopology \u001b[38;5;241m=\u001b[39m topology\n\u001b[0;32m-> 1317\u001b[0m \u001b[38;5;28mself\u001b[39m\u001b[38;5;241m.\u001b[39mxyz \u001b[38;5;241m=\u001b[39m xyz\n\u001b[1;32m   1319\u001b[0m \u001b[38;5;66;03m# _rmsd_traces are the inner product of each centered conformation,\u001b[39;00m\n\u001b[1;32m   1320\u001b[0m \u001b[38;5;66;03m# which are required for computing RMSD. Normally these values are\u001b[39;00m\n\u001b[1;32m   1321\u001b[0m \u001b[38;5;66;03m# calculated on the fly in the cython code (rmsd/_rmsd.pyx), but\u001b[39;00m\n\u001b[0;32m   (...)\u001b[0m\n\u001b[1;32m   1325\u001b[0m \u001b[38;5;66;03m# self._rmsd_traces. This array is populated computed by\u001b[39;00m\n\u001b[1;32m   1326\u001b[0m \u001b[38;5;66;03m# center_conformations, and no other methods should really touch it.\u001b[39;00m\n",
      "File \u001b[0;32m~/rds/hpc-work/miniconda3/envs/data_viz1/lib/python3.10/site-packages/mdtraj/core/trajectory.py:973\u001b[0m, in \u001b[0;36mTrajectory.xyz\u001b[0;34m(self, value)\u001b[0m\n\u001b[1;32m    971\u001b[0m     shape \u001b[38;5;241m=\u001b[39m (\u001b[38;5;28;01mNone\u001b[39;00m, \u001b[38;5;28;01mNone\u001b[39;00m, \u001b[38;5;241m3\u001b[39m)\n\u001b[0;32m--> 973\u001b[0m value \u001b[38;5;241m=\u001b[39m \u001b[43mensure_type\u001b[49m\u001b[43m(\u001b[49m\n\u001b[1;32m    974\u001b[0m \u001b[43m    \u001b[49m\u001b[43mvalue\u001b[49m\u001b[43m,\u001b[49m\n\u001b[1;32m    975\u001b[0m \u001b[43m    \u001b[49m\u001b[43mnp\u001b[49m\u001b[38;5;241;43m.\u001b[39;49m\u001b[43mfloat32\u001b[49m\u001b[43m,\u001b[49m\n\u001b[1;32m    976\u001b[0m \u001b[43m    \u001b[49m\u001b[38;5;241;43m3\u001b[39;49m\u001b[43m,\u001b[49m\n\u001b[1;32m    977\u001b[0m \u001b[43m    \u001b[49m\u001b[38;5;124;43m\"\u001b[39;49m\u001b[38;5;124;43mxyz\u001b[39;49m\u001b[38;5;124;43m\"\u001b[39;49m\u001b[43m,\u001b[49m\n\u001b[1;32m    978\u001b[0m \u001b[43m    \u001b[49m\u001b[43mshape\u001b[49m\u001b[38;5;241;43m=\u001b[39;49m\u001b[43mshape\u001b[49m\u001b[43m,\u001b[49m\n\u001b[1;32m    979\u001b[0m \u001b[43m    \u001b[49m\u001b[43mwarn_on_cast\u001b[49m\u001b[38;5;241;43m=\u001b[39;49m\u001b[38;5;28;43;01mFalse\u001b[39;49;00m\u001b[43m,\u001b[49m\n\u001b[1;32m    980\u001b[0m \u001b[43m    \u001b[49m\u001b[43madd_newaxis_on_deficient_ndim\u001b[49m\u001b[38;5;241;43m=\u001b[39;49m\u001b[38;5;28;43;01mTrue\u001b[39;49;00m\u001b[43m,\u001b[49m\n\u001b[1;32m    981\u001b[0m \u001b[43m\u001b[49m\u001b[43m)\u001b[49m\n\u001b[1;32m    982\u001b[0m \u001b[38;5;28mself\u001b[39m\u001b[38;5;241m.\u001b[39m_xyz \u001b[38;5;241m=\u001b[39m value\n",
      "File \u001b[0;32m~/rds/hpc-work/miniconda3/envs/data_viz1/lib/python3.10/site-packages/mdtraj/utils/validation.py:157\u001b[0m, in \u001b[0;36mensure_type\u001b[0;34m(val, dtype, ndim, name, length, can_be_none, shape, warn_on_cast, add_newaxis_on_deficient_ndim)\u001b[0m\n\u001b[1;32m    155\u001b[0m         \u001b[38;5;28;01mif\u001b[39;00m a \u001b[38;5;241m!=\u001b[39m b:\n\u001b[1;32m    156\u001b[0m             \u001b[38;5;66;03m# check for equality\u001b[39;00m\n\u001b[0;32m--> 157\u001b[0m             \u001b[38;5;28;01mraise\u001b[39;00m error\n\u001b[1;32m    159\u001b[0m \u001b[38;5;28;01mreturn\u001b[39;00m val\n",
      "\u001b[0;31mValueError\u001b[0m: xyz must be shape (Any, 24, 3). You supplied  (5000, 2886, 3)",
      "\nThe above exception was the direct cause of the following exception:\n",
      "\u001b[0;31mValueError\u001b[0m                                Traceback (most recent call last)",
      "Cell \u001b[0;32mIn[29], line 1\u001b[0m\n\u001b[0;32m----> 1\u001b[0m \u001b[43mload_trajectory\u001b[49m\u001b[43m(\u001b[49m\u001b[38;5;124;43m'\u001b[39;49m\u001b[38;5;124;43m/home/bfd21/rds/hpc-work/tbg/cyclization/jobs/md-jobs/Lys-Tyr/results/traj_seed_0.dcd\u001b[39;49m\u001b[38;5;124;43m'\u001b[39;49m\u001b[43m,\u001b[49m\u001b[43m \u001b[49m\u001b[43mpdb_dict\u001b[49m\u001b[43m[\u001b[49m\u001b[38;5;124;43m'\u001b[39;49m\u001b[38;5;124;43mLys-Tyr\u001b[39;49m\u001b[38;5;124;43m'\u001b[39;49m\u001b[43m]\u001b[49m\u001b[43m)\u001b[49m\n",
      "Cell \u001b[0;32mIn[28], line 34\u001b[0m, in \u001b[0;36mload_trajectory\u001b[0;34m(traj_path, pdb_path, fraction)\u001b[0m\n\u001b[1;32m     31\u001b[0m \u001b[38;5;28mprint\u001b[39m(\u001b[38;5;124mf\u001b[39m\u001b[38;5;124m\"\u001b[39m\u001b[38;5;124mExpected number of atoms from PDB: \u001b[39m\u001b[38;5;132;01m{\u001b[39;00mpdb_topology\u001b[38;5;241m.\u001b[39mn_atoms\u001b[38;5;132;01m}\u001b[39;00m\u001b[38;5;124m\"\u001b[39m)\n\u001b[1;32m     33\u001b[0m \u001b[38;5;66;03m# Load the DCD trajectory\u001b[39;00m\n\u001b[0;32m---> 34\u001b[0m traj \u001b[38;5;241m=\u001b[39m \u001b[43mmd\u001b[49m\u001b[38;5;241;43m.\u001b[39;49m\u001b[43mload\u001b[49m\u001b[43m(\u001b[49m\u001b[43mtraj_path\u001b[49m\u001b[43m,\u001b[49m\u001b[43m \u001b[49m\u001b[43mtop\u001b[49m\u001b[38;5;241;43m=\u001b[39;49m\u001b[43mpdb_path\u001b[49m\u001b[43m)\u001b[49m\n\u001b[1;32m     36\u001b[0m \u001b[38;5;66;03m# Print the actual number of atoms from the DCD file\u001b[39;00m\n\u001b[1;32m     37\u001b[0m \u001b[38;5;28mprint\u001b[39m(\u001b[38;5;124mf\u001b[39m\u001b[38;5;124m\"\u001b[39m\u001b[38;5;124mNumber of atoms in DCD file: \u001b[39m\u001b[38;5;132;01m{\u001b[39;00mtraj\u001b[38;5;241m.\u001b[39mtopology\u001b[38;5;241m.\u001b[39mn_atoms\u001b[38;5;132;01m}\u001b[39;00m\u001b[38;5;124m\"\u001b[39m)\n",
      "File \u001b[0;32m~/rds/hpc-work/miniconda3/envs/data_viz1/lib/python3.10/site-packages/mdtraj/core/trajectory.py:448\u001b[0m, in \u001b[0;36mload\u001b[0;34m(filename_or_filenames, discard_overlapping_frames, **kwargs)\u001b[0m\n\u001b[1;32m    446\u001b[0m \u001b[38;5;28;01mexcept\u001b[39;00m \u001b[38;5;167;01mValueError\u001b[39;00m \u001b[38;5;28;01mas\u001b[39;00m e:\n\u001b[1;32m    447\u001b[0m     \u001b[38;5;28;01mif\u001b[39;00m \u001b[38;5;124m\"\u001b[39m\u001b[38;5;124mxyz must be shape\u001b[39m\u001b[38;5;124m\"\u001b[39m \u001b[38;5;129;01min\u001b[39;00m \u001b[38;5;28mstr\u001b[39m(e):\n\u001b[0;32m--> 448\u001b[0m         \u001b[38;5;28;01mraise\u001b[39;00m \u001b[38;5;167;01mValueError\u001b[39;00m(\n\u001b[1;32m    449\u001b[0m             \u001b[38;5;124m\"\u001b[39m\u001b[38;5;124mThe topology and the trajectory files might not contain the same atoms\u001b[39m\u001b[38;5;130;01m\\n\u001b[39;00m\u001b[38;5;124m\"\u001b[39m\n\u001b[1;32m    450\u001b[0m             \u001b[38;5;124m\"\u001b[39m\u001b[38;5;124mThe input topology must contain all atoms even if \u001b[39m\u001b[38;5;124m\"\u001b[39m\n\u001b[1;32m    451\u001b[0m             \u001b[38;5;124m\"\u001b[39m\u001b[38;5;124myou want to select a subset of them with atom_indices\u001b[39m\u001b[38;5;124m\"\u001b[39m,\n\u001b[1;32m    452\u001b[0m         ) \u001b[38;5;28;01mfrom\u001b[39;00m \u001b[38;5;21;01me\u001b[39;00m\n\u001b[1;32m    454\u001b[0m     \u001b[38;5;28;01mraise\u001b[39;00m\n\u001b[1;32m    456\u001b[0m trajectories\u001b[38;5;241m.\u001b[39mappend(t)\n",
      "\u001b[0;31mValueError\u001b[0m: The topology and the trajectory files might not contain the same atoms\nThe input topology must contain all atoms even if you want to select a subset of them with atom_indices"
     ]
    },
    {
     "ename": "",
     "evalue": "",
     "output_type": "error",
     "traceback": [
      "\u001b[1;31mThe Kernel crashed while executing code in the current cell or a previous cell. \n",
      "\u001b[1;31mPlease review the code in the cell(s) to identify a possible cause of the failure. \n",
      "\u001b[1;31mClick <a href='https://aka.ms/vscodeJupyterKernelCrash'>here</a> for more info. \n",
      "\u001b[1;31mView Jupyter <a href='command:jupyter.viewOutput'>log</a> for further details."
     ]
    }
   ],
   "source": [
    "load_trajectory('/home/bfd21/rds/hpc-work/tbg/cyclization/jobs/md-jobs/Lys-Tyr/results/traj_seed_0.dcd', pdb_dict['Lys-Tyr'])"
   ]
  }
 ],
 "metadata": {
  "kernelspec": {
   "display_name": "data_viz1",
   "language": "python",
   "name": "python3"
  },
  "language_info": {
   "codemirror_mode": {
    "name": "ipython",
    "version": 3
   },
   "file_extension": ".py",
   "mimetype": "text/x-python",
   "name": "python",
   "nbconvert_exporter": "python",
   "pygments_lexer": "ipython3",
   "version": "3.10.16"
  }
 },
 "nbformat": 4,
 "nbformat_minor": 2
}
