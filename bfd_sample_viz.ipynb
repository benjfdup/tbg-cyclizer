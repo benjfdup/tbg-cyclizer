{
 "cells": [
  {
   "cell_type": "code",
   "execution_count": null,
   "metadata": {},
   "outputs": [
    {
     "data": {
      "application/vnd.jupyter.widget-view+json": {
       "model_id": "b9ae9475eb0041dbba1ca9e85a95e570",
       "version_major": 2,
       "version_minor": 0
      },
      "text/plain": []
     },
     "metadata": {},
     "output_type": "display_data"
    }
   ],
   "source": [
    "### cannot be done in test_ben0 conda environment due to collisions. Instead, I'll make another conda env\n",
    "### specifically for data viz. I will call it: data_viz0 (lol)\n",
    "### remember, use test_ben0 for actual inference.\n",
    "\n",
    "import numpy as np\n",
    "import mdtraj as md\n",
    "import nglview as nv"
   ]
  },
  {
   "cell_type": "code",
   "execution_count": null,
   "metadata": {},
   "outputs": [
    {
     "data": {
      "application/vnd.jupyter.widget-view+json": {
       "model_id": "93ba7c3a137f41cc97e1f22913dde6f4",
       "version_major": 2,
       "version_minor": 0
      },
      "text/plain": [
       "NGLWidget(max_frame=134)"
      ]
     },
     "metadata": {},
     "output_type": "display_data"
    }
   ],
   "source": [
    "import numpy as np\n",
    "import mdtraj as md\n",
    "import nglview as nv\n",
    "\n",
    "# Parameters\n",
    "scaling_factor = 30\n",
    "pdb_path = \"/home/bfd21/rds/hpc-work/sample_cyclic_md/ligand-only/dummy1/l1.pdb\"\n",
    "npz_files = [\n",
    "    \"/home/bfd21/rds/hpc-work/tbg/result_data/Dec-3-2024/bb_all_sc_adj_batch-0.npz\",\n",
    "    \"/home/bfd21/rds/hpc-work/tbg/result_data/Dec-3-2024/bb_all_sc_adj_batch-1.npz\",\n",
    "]\n",
    "\n",
    "# Load topology and ensure bonds are loaded\n",
    "pdb = md.load(pdb_path)\n",
    "topology = pdb.topology\n",
    "\n",
    "# Load and process generated samples\n",
    "all_samples = []\n",
    "for npz_file in npz_files:\n",
    "    data = np.load(npz_file)\n",
    "    samples_np = data[\"samples_np\"]\n",
    "    # Reshape samples to match the number of particles and scale them\n",
    "    n_particles = len(list(topology.atoms))\n",
    "    samples = samples_np.reshape(-1, n_particles, 3) * scaling_factor\n",
    "    all_samples.append(samples)\n",
    "\n",
    "# Combine all samples into a single array\n",
    "all_samples = np.concatenate(all_samples, axis=0)\n",
    "\n",
    "# Create an MDTraj trajectory with the combined samples\n",
    "traj = md.Trajectory(\n",
    "    xyz=all_samples,  # Shape: (n_frames, n_atoms, 3)\n",
    "    topology=topology\n",
    ")\n",
    "\n",
    "# Center the trajectory around the origin\n",
    "traj.center_coordinates()\n",
    "\n",
    "# Visualize using nglview\n",
    "view = nv.show_mdtraj(traj)\n",
    "\n",
    "# Use \"cartoon\" for overall structure and \"ball+stick\" for bonds\n",
    "view.add_representation(\"cartoon\", selection=\"protein\")  # Highlights protein backbone\n",
    "view.add_representation(\"ball+stick\", selection=\"all\", radius=0.5)  # Ball-and-stick for all atoms\n",
    "\n",
    "# Ensure all bonds in the PDB topology are displayed\n",
    "for bond in topology.bonds:\n",
    "    atom1_idx = bond[0].index\n",
    "    atom2_idx = bond[1].index\n",
    "    view.add_representation(\n",
    "        \"licorice\", \n",
    "        selection=f\"@{atom1_idx},{atom2_idx}\", \n",
    "        radius=0.3, \n",
    "        bondScale=1.2\n",
    "    )\n",
    "\n",
    "# Display the visualization\n",
    "view\n"
   ]
  },
  {
   "cell_type": "code",
   "execution_count": null,
   "metadata": {},
   "outputs": [],
   "source": [
    "### NOW ADD TRAINING DATA VIZUALIZATION"
   ]
  }
 ],
 "metadata": {
  "kernelspec": {
   "display_name": "data_viz0",
   "language": "python",
   "name": "python3"
  },
  "language_info": {
   "codemirror_mode": {
    "name": "ipython",
    "version": 3
   },
   "file_extension": ".py",
   "mimetype": "text/x-python",
   "name": "python",
   "nbconvert_exporter": "python",
   "pygments_lexer": "ipython3",
   "version": "3.9.18"
  }
 },
 "nbformat": 4,
 "nbformat_minor": 2
}
